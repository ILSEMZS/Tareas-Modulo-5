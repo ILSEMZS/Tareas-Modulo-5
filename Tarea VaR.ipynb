{
 "cells": [
  {
   "cell_type": "code",
   "execution_count": 40,
   "metadata": {},
   "outputs": [],
   "source": [
    "import pandas as pd\n",
    "import numpy as np\n",
    "import matplotlib.pyplot as plt\n",
    "import seaborn as sn\n",
    "from scipy.optimize import minimize\n",
    "from scipy.stats import norm"
   ]
  },
  {
   "cell_type": "code",
   "execution_count": 25,
   "metadata": {},
   "outputs": [
    {
     "data": {
      "text/html": [
       "<div>\n",
       "<style scoped>\n",
       "    .dataframe tbody tr th:only-of-type {\n",
       "        vertical-align: middle;\n",
       "    }\n",
       "\n",
       "    .dataframe tbody tr th {\n",
       "        vertical-align: top;\n",
       "    }\n",
       "\n",
       "    .dataframe thead th {\n",
       "        text-align: right;\n",
       "    }\n",
       "</style>\n",
       "<table border=\"1\" class=\"dataframe\">\n",
       "  <thead>\n",
       "    <tr style=\"text-align: right;\">\n",
       "      <th></th>\n",
       "      <th>ASURB MF Equity</th>\n",
       "      <th>GFNORTEO MF Equity</th>\n",
       "      <th>PE&amp;OLES* MF Equity</th>\n",
       "      <th>WALMEX* MF Equity</th>\n",
       "      <th>IENOVA* MF Equity</th>\n",
       "    </tr>\n",
       "    <tr>\n",
       "      <th>DATE</th>\n",
       "      <th></th>\n",
       "      <th></th>\n",
       "      <th></th>\n",
       "      <th></th>\n",
       "      <th></th>\n",
       "    </tr>\n",
       "  </thead>\n",
       "  <tbody>\n",
       "    <tr>\n",
       "      <th>2016-01-01</th>\n",
       "      <td>243.89</td>\n",
       "      <td>94.99</td>\n",
       "      <td>177.22</td>\n",
       "      <td>43.49</td>\n",
       "      <td>72.34</td>\n",
       "    </tr>\n",
       "    <tr>\n",
       "      <th>2016-01-04</th>\n",
       "      <td>238.29</td>\n",
       "      <td>91.79</td>\n",
       "      <td>175.90</td>\n",
       "      <td>42.84</td>\n",
       "      <td>72.98</td>\n",
       "    </tr>\n",
       "    <tr>\n",
       "      <th>2016-01-05</th>\n",
       "      <td>233.03</td>\n",
       "      <td>91.72</td>\n",
       "      <td>176.45</td>\n",
       "      <td>42.66</td>\n",
       "      <td>71.48</td>\n",
       "    </tr>\n",
       "    <tr>\n",
       "      <th>2016-01-06</th>\n",
       "      <td>231.97</td>\n",
       "      <td>91.63</td>\n",
       "      <td>172.68</td>\n",
       "      <td>42.38</td>\n",
       "      <td>70.94</td>\n",
       "    </tr>\n",
       "    <tr>\n",
       "      <th>2016-01-07</th>\n",
       "      <td>230.71</td>\n",
       "      <td>89.54</td>\n",
       "      <td>172.94</td>\n",
       "      <td>39.99</td>\n",
       "      <td>72.31</td>\n",
       "    </tr>\n",
       "  </tbody>\n",
       "</table>\n",
       "</div>"
      ],
      "text/plain": [
       "            ASURB MF Equity  GFNORTEO MF Equity  PE&OLES* MF Equity  \\\n",
       "DATE                                                                  \n",
       "2016-01-01           243.89               94.99              177.22   \n",
       "2016-01-04           238.29               91.79              175.90   \n",
       "2016-01-05           233.03               91.72              176.45   \n",
       "2016-01-06           231.97               91.63              172.68   \n",
       "2016-01-07           230.71               89.54              172.94   \n",
       "\n",
       "            WALMEX* MF Equity  IENOVA* MF Equity  \n",
       "DATE                                              \n",
       "2016-01-01              43.49              72.34  \n",
       "2016-01-04              42.84              72.98  \n",
       "2016-01-05              42.66              71.48  \n",
       "2016-01-06              42.38              70.94  \n",
       "2016-01-07              39.99              72.31  "
      ]
     },
     "execution_count": 25,
     "metadata": {},
     "output_type": "execute_result"
    }
   ],
   "source": [
    "data = pd.read_excel(\"./PreciosPortf.xlsx\", index_col=0)\n",
    "data.head()"
   ]
  },
  {
   "cell_type": "code",
   "execution_count": 26,
   "metadata": {},
   "outputs": [],
   "source": [
    "def port_rend(weights, r):\n",
    "    E_p =(r.mean() @ weights) * 252\n",
    "    return E_p\n",
    "def port_vol(weights, r):\n",
    "    S_p = np.sqrt(weights.T @ (r.cov() *252) @ weights)\n",
    "    return S_p\n",
    "def sum_weights(weights):\n",
    "    return weights.sum() -1 # == 0\n",
    "\n",
    "def rend_esperado(w, E):\n",
    "    return port_rend(w, rend) - E # == 0"
   ]
  },
  {
   "cell_type": "code",
   "execution_count": 27,
   "metadata": {},
   "outputs": [
    {
     "data": {
      "text/plain": [
       "ASURB MF Equity       0.123539\n",
       "GFNORTEO MF Equity    0.078811\n",
       "PE&OLES* MF Equity    0.111053\n",
       "WALMEX* MF Equity     0.082426\n",
       "IENOVA* MF Equity     0.078997\n",
       "dtype: float64"
      ]
     },
     "execution_count": 27,
     "metadata": {},
     "output_type": "execute_result"
    }
   ],
   "source": [
    "rend = data.pct_change().dropna()\n",
    "rend_ports = rend.mean() * 252\n",
    "rend_ports"
   ]
  },
  {
   "cell_type": "code",
   "execution_count": 28,
   "metadata": {},
   "outputs": [],
   "source": [
    "rmin = rend_ports.min()\n",
    "rmax = rend_ports.max()\n",
    "rend_maxs = np.linspace(rmin,rmax)"
   ]
  },
  {
   "cell_type": "code",
   "execution_count": 29,
   "metadata": {},
   "outputs": [],
   "source": [
    "pesos_optimos = []\n",
    "for e in rend_maxs:\n",
    "    constraints = [\n",
    "        {\"type\":\"eq\", \"fun\":sum_weights},\n",
    "        {\"type\":\"eq\", \"fun\":lambda w: rend_esperado(w, e)}\n",
    "    ]\n",
    "    port1 = minimize(port_vol, w0, constraints=constraints, args=rend)\n",
    "    w_opt = port1.x\n",
    "    pesos_optimos.append(w_opt)"
   ]
  },
  {
   "cell_type": "code",
   "execution_count": 30,
   "metadata": {},
   "outputs": [],
   "source": [
    "r_opt = []\n",
    "v_opt = []\n",
    "for w in pesos_optimos:\n",
    "    r_opt.append(port_rend(w,rend))\n",
    "    v_opt.append(port_vol(w,rend))\n",
    "    \n",
    "r_opt = np.array(r_opt)\n",
    "v_opt = np.array(v_opt)\n",
    "\n"
   ]
  },
  {
   "cell_type": "code",
   "execution_count": 112,
   "metadata": {},
   "outputs": [],
   "source": [
    "N, M  = rend.shape\n",
    "w0 = np.random.randn(M)\n",
    "rf = 0.06\n",
    "def min_func_sharpe(weights):\n",
    "        return - (port_rend(weights, rend) - rf)/ port_vol(weights,rend)\n",
    "\n",
    "constraints = [\n",
    "    {\"type\":\"eq\", \"fun\":sum_weights}\n",
    "]\n",
    "f_sharpe = minimize(min_func_sharpe,w0, constraints=constraints)\n"
   ]
  },
  {
   "cell_type": "code",
   "execution_count": 113,
   "metadata": {},
   "outputs": [],
   "source": [
    "w_sharpe = f_sharpe.x"
   ]
  },
  {
   "cell_type": "code",
   "execution_count": 114,
   "metadata": {},
   "outputs": [
    {
     "data": {
      "text/plain": [
       "array([ 0.73142217, -0.1399255 ,  0.17620204,  0.16379871,  0.06850257])"
      ]
     },
     "execution_count": 114,
     "metadata": {},
     "output_type": "execute_result"
    }
   ],
   "source": [
    "w_sharpe"
   ]
  },
  {
   "cell_type": "code",
   "execution_count": 115,
   "metadata": {},
   "outputs": [],
   "source": [
    "e_sharpe = port_rend(w_sharpe, rend)\n",
    "vol_sharpe = port_vol(w_sharpe, rend)"
   ]
  },
  {
   "cell_type": "code",
   "execution_count": 116,
   "metadata": {},
   "outputs": [
    {
     "data": {
      "text/plain": [
       "<matplotlib.legend.Legend at 0x1aea4238240>"
      ]
     },
     "execution_count": 116,
     "metadata": {},
     "output_type": "execute_result"
    },
    {
     "data": {
      "image/png": "[encoded data removed]",
      "text/plain": [
       "<Figure size 432x288 with 1 Axes>"
      ]
     },
     "metadata": {
      "needs_background": "light"
     },
     "output_type": "display_data"
    }
   ],
   "source": [
    "sigma_c = np.linspace(0,0.25)\n",
    "sharpe = rf + sigma_c*(e_sharpe - rf)/vol_sharpe\n",
    "plt.plot(sigma_c, sharpe, linestyle=\"--\",c=\"tab:orange\", label=\"Capital Allocation Line\")\n",
    "plt.plot(v_opt, r_opt)\n",
    "plt.legend(fontsize=12)"
   ]
  },
  {
   "cell_type": "markdown",
   "metadata": {},
   "source": [
    "# TAREA"
   ]
  },
  {
   "cell_type": "markdown",
   "metadata": {},
   "source": [
    "VaR a un Dia\n",
    "\n",
    "VaR anual\n",
    "\n",
    "al 95% 99% de confianza\n",
    "\n",
    "efecto de diversificacion\n",
    "\n",
    "*de acciones individuales\n",
    "\n",
    "*del portafolio"
   ]
  },
  {
   "cell_type": "code",
   "execution_count": 117,
   "metadata": {},
   "outputs": [
    {
     "name": "stdout",
     "output_type": "stream",
     "text": [
      "PARA UN NIVEL DE 0.950000\n",
      "el VaR diario del portafolio es 205250.380523\n",
      "el VaR anual del portafolio es 3258248.780197\n",
      "el VaR diario individual es 261732.733475\n",
      "el VaR anual individual es 4154878.336432\n",
      "el efecto de diversificacion diario es 896629.556235\n",
      "el efecto de diversificacion anual  es 56482.352951\n"
     ]
    }
   ],
   "source": [
    "\n",
    "nivel=.95\n",
    "des=norm.ppf(nivel)\n",
    "ds_por=port_vol(w_sharpe, rend)\n",
    "\n",
    "Var_anual_porf=monto*des*ds_por\n",
    "Var_diario_port=monto*des*(ds_por/np.sqrt(252))\n",
    "VaR_diario_individual=sum(monto*w_sharpe*des*np.sqrt(np.diagonal(rend.cov())))\n",
    "VaR_anual_individual=sum(monto*w_sharpe*des*np.sqrt(np.diagonal(rend.cov()))*np.sqrt(252))\n",
    "efecto_diver_anual=VaR_anual_individual-Var_anual_porf\n",
    "efecto_diver_diario=VaR_diario_individual-Var_diario_port\n",
    "\n",
    "print(\"PARA UN NIVEL DE %F\" %nivel)\n",
    "print(\"el VaR diario del portafolio es %F\" %Var_diario_port)\n",
    "print(\"el VaR anual del portafolio es %F\" %Var_anual_porf)\n",
    "print(\"el VaR diario individual es %F\" %VaR_diario_individual)\n",
    "print(\"el VaR anual individual es %F\" %VaR_anual_individual)\n",
    "print(\"el efecto de diversificacion diario es %F\" %efecto_diver_anual)\n",
    "print(\"el efecto de diversificacion anual  es %F\" %efecto_diver_diario)"
   ]
  },
  {
   "cell_type": "code",
   "execution_count": 118,
   "metadata": {},
   "outputs": [
    {
     "name": "stdout",
     "output_type": "stream",
     "text": [
      "PARA UN NIVEL DE 0.990000\n",
      "el VaR diario del portafolio es 290289.530055\n",
      "el VaR anual del portafolio es 4608203.428384\n",
      "el VaR diario individual es 370173.599710\n",
      "el VaR anual individual es 5876323.720532\n",
      "el efecto de diversificacion diario es 1268120.292147\n",
      "el efecto de diversificacion anual  es 79884.069656\n"
     ]
    }
   ],
   "source": [
    "monto=10_000_000\n",
    "nivel=.99\n",
    "des=norm.ppf(nivel)\n",
    "ds_por=port_vol(w_sharpe, rend)\n",
    "\n",
    "Var_anual_porf=monto*des*ds_por\n",
    "Var_diario_port=monto*des*(ds_por/np.sqrt(252))\n",
    "VaR_diario_individual=sum(monto*w_sharpe*des*np.sqrt(np.diagonal(rend.cov())))\n",
    "VaR_anual_individual=sum(monto*w_sharpe*des*np.sqrt(np.diagonal(rend.cov()))*np.sqrt(252))\n",
    "efecto_diver_anual=VaR_anual_individual-Var_anual_porf\n",
    "efecto_diver_diario=VaR_diario_individual-Var_diario_port\n",
    "\n",
    "print(\"PARA UN NIVEL DE %F\" %nivel)\n",
    "print(\"el VaR diario del portafolio es %F\" %Var_diario_port)\n",
    "print(\"el VaR anual del portafolio es %F\" %Var_anual_porf)\n",
    "print(\"el VaR diario individual es %F\" %VaR_diario_individual)\n",
    "print(\"el VaR anual individual es %F\" %VaR_anual_individual)\n",
    "print(\"el efecto de diversificacion diario es %F\" %efecto_diver_anual)\n",
    "print(\"el efecto de diversificacion anual  es %F\" %efecto_diver_diario)"
   ]
  },
  {
   "cell_type": "code",
   "execution_count": null,
   "metadata": {},
   "outputs": [],
   "source": []
  }
 ],
 "metadata": {
  "kernelspec": {
   "display_name": "Python 3",
   "language": "python",
   "name": "python3"
  },
  "language_info": {
   "codemirror_mode": {
    "name": "ipython",
    "version": 3
   },
   "file_extension": ".py",
   "mimetype": "text/x-python",
   "name": "python",
   "nbconvert_exporter": "python",
   "pygments_lexer": "ipython3",
   "version": "3.7.3"
  }
 },
 "nbformat": 4,
 "nbformat_minor": 2
}
