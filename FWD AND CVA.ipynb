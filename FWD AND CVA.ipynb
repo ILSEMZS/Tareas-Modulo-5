{
 "cells": [
  {
   "cell_type": "markdown",
   "metadata": {},
   "source": [
    "# ILSE MARIANA ZUNIGA SANCHEZ"
   ]
  },
  {
   "cell_type": "code",
   "execution_count": 82,
   "metadata": {},
   "outputs": [],
   "source": [
    "import pandas as pd\n",
    "import datetime as dt\n",
    "from datetime import timedelta\n",
    "from math import log\n",
    "import numpy as np\n",
    "from dateutil.relativedelta import relativedelta\n",
    "from scipy.optimize import minimize, root\n",
    "from matplotlib.pyplot import plot"
   ]
  },
  {
   "cell_type": "markdown",
   "metadata": {},
   "source": [
    "# Valuacion del derivado"
   ]
  },
  {
   "cell_type": "code",
   "execution_count": 168,
   "metadata": {},
   "outputs": [],
   "source": [
    "#Valores a considerar para la valuacion\n",
    "#valor a tiempo 0\n",
    "S0=23.35 # aq 11 de abril\n",
    "#plazo en dias del instrumento\n",
    "plazo=90\n",
    "# en este caso es tiie 3 meses por el plazo del instrumento\n",
    "inter=.0654\n",
    "#\n",
    "Ptos_fwd=3592\n",
    "Precio_fwd=S0+Ptos_fwd/10000\n",
    "#\n",
    "Tasa_USD=.0132\n",
    "Tasa_USD=(360/plazo)*log(1+Tasa_USD*plazo/360)\n",
    "\n",
    "#Tasa implícita MXN\n",
    "V=((Precio_fwd/S0)*(1+Tasa_USD*plazo/360)-1)*(360/plazo)\n",
    "V=(360/plazo)*log(1+V*plazo/360)\n",
    "\n",
    "#VOLATILIDAD\n",
    "vol=.2\n",
    "\n",
    "#nocional\n",
    "N=87_00_000\n"
   ]
  },
  {
   "cell_type": "code",
   "execution_count": 169,
   "metadata": {},
   "outputs": [
    {
     "data": {
      "text/plain": [
       "(5000, 91)"
      ]
     },
     "execution_count": 169,
     "metadata": {},
     "output_type": "execute_result"
    }
   ],
   "source": [
    "#SIMULACION MONTECARLO\n",
    "num_sim=5000\n",
    "\n",
    "def trayectoria(plazo,S0,V,Tasa_USD):\n",
    "    trayectoria=[S0]\n",
    "    for i in range(1,plazo+1):\n",
    "        si=trayectoria[i-1]*np.exp((V-Tasa_USD-.5*vol**2)*(1/360)+vol*np.sqrt(1/360)*np.random.normal())\n",
    "        trayectoria.append(si)\n",
    "    return trayectoria\n",
    "    \n",
    "simulaciones=np.array([trayectoria(plazo,S0,V,Tasa_USD) for i in range(num_sim)])\n",
    "simulaciones.shape\n"
   ]
  },
  {
   "cell_type": "code",
   "execution_count": 170,
   "metadata": {},
   "outputs": [
    {
     "data": {
      "text/plain": [
       "(5000, 90)"
      ]
     },
     "execution_count": 170,
     "metadata": {},
     "output_type": "execute_result"
    }
   ],
   "source": [
    "#valuacion\n",
    "\n",
    "def Fi(simulaciones,i,V,Tasa_USD,plazo,Precio_fwd,nocional):\n",
    "    return N*(simulaciones[:,i]*np.exp((V-Tasa_USD)*(plazo-i)/360)-Precio_fwd)*np.exp(V*(plazo-i)/360)\n",
    "\n",
    "#(simulaciones[:,i]*np.exp((V-Tasa_USD)*((90-i)/360)))-(Precio_fwd*nocional*np.exp(-V*((90-i)/360)))\n",
    "\n",
    "\n",
    "mtm=np.array([Fi(simulaciones,i,V,Tasa_USD,plazo,Precio_fwd,N) for i in range(1,plazo+1)])  \n",
    "mtm=mtm.T\n",
    "mtm.shape"
   ]
  },
  {
   "cell_type": "code",
   "execution_count": 171,
   "metadata": {},
   "outputs": [],
   "source": [
    "EPE=[mtm[:,i][mtm[:,i]>0].mean() for i in range(plazo)]\n",
    "PFE=[np.quantile(mtm[:,i][mtm[:,i]>0],q=.95) for i in range(plazo)]\n"
   ]
  },
  {
   "cell_type": "markdown",
   "metadata": {},
   "source": [
    "#  incumplimiento"
   ]
  },
  {
   "cell_type": "code",
   "execution_count": 172,
   "metadata": {},
   "outputs": [],
   "source": [
    "#fecha de valuacion\n",
    "Date=dt.datetime.strptime(\"2020-04-11\", \"%Y-%m-%d\")\n",
    "#nocional del derivado\n",
    "Notional=1000\n",
    "#\n",
    "Start=dt.datetime.strptime(\"2019-09-13\", \"%Y-%m-%d\")\n",
    "Maturity=dt.datetime.strptime(\"2027-03-13\", \"%Y-%m-%d\")\n",
    "#tasa cupon\n",
    "Coupon_rate=.057\n",
    "YTM=.0863\n",
    "Interbank_Rate=.0052\n",
    "\n",
    "\n",
    "R=.25\n",
    "\n",
    "#coontraparte\n",
    "Credit=\"PEMEX\"\n",
    "Daycount=\"S/A\"\n",
    "\n"
   ]
  },
  {
   "cell_type": "code",
   "execution_count": 173,
   "metadata": {},
   "outputs": [],
   "source": [
    "def days360(start_date, end_date, method_eu=False):\n",
    "    start_day = start_date.day\n",
    "    start_month = start_date.month\n",
    "    start_year = start_date.year\n",
    "    end_day = end_date.day\n",
    "    end_month = end_date.month\n",
    "    end_year = end_date.year\n",
    "\n",
    "    if (\n",
    "        start_day == 31 or\n",
    "        (\n",
    "            method_eu is False and\n",
    "            start_month == 2 and (\n",
    "                start_day == 29 or (\n",
    "                    start_day == 28 and\n",
    "                    start_date.is_leap_year is False\n",
    "                )\n",
    "            )\n",
    "        )\n",
    "    ):\n",
    "        start_day = 30\n",
    "\n",
    "    if end_day == 31:\n",
    "        if method_eu is False and start_day != 30:\n",
    "            end_day = 1\n",
    "\n",
    "            if end_month == 12:\n",
    "                end_year += 1\n",
    "                end_month = 1\n",
    "            else:\n",
    "                end_month += 1\n",
    "        else:\n",
    "            end_day = 30\n",
    "\n",
    "    return (\n",
    "        end_day + end_month * 30 + end_year * 360 -\n",
    "        start_day - start_month * 30 - start_year * 360)"
   ]
  },
  {
   "cell_type": "code",
   "execution_count": 174,
   "metadata": {},
   "outputs": [],
   "source": [
    "cortes=[Start]\n",
    "i=0\n",
    "aux=dt.datetime.strptime(\"2019-09-13\", \"%Y-%m-%d\")\n",
    "while aux < Maturity:\n",
    "    aux=cortes[i]+relativedelta(months=6)\n",
    "    cortes.append(aux)\n",
    "    i=i+1"
   ]
  },
  {
   "cell_type": "code",
   "execution_count": 175,
   "metadata": {},
   "outputs": [],
   "source": [
    "days_to_coupon=[days360(Date, cortes[i]) for i in range(1,len(cortes))]"
   ]
  },
  {
   "cell_type": "code",
   "execution_count": 176,
   "metadata": {},
   "outputs": [],
   "source": [
    "coupon_not=[Coupon_rate*Notional/2 for i in range(len(days_to_coupon)) ]\n",
    "coupon_not[len(days_to_coupon)-1]=coupon_not[len(days_to_coupon)-1]+Notional"
   ]
  },
  {
   "cell_type": "code",
   "execution_count": 177,
   "metadata": {},
   "outputs": [],
   "source": [
    "discount_factor=[1/(1+YTM/2)**(days_to_coupon[i]/180) for i in range(len(days_to_coupon))]"
   ]
  },
  {
   "cell_type": "code",
   "execution_count": 178,
   "metadata": {},
   "outputs": [],
   "source": [
    "df_interbank=[1/(1+Interbank_Rate/2)**(days_to_coupon[i]/180)  for i in range(len(days_to_coupon))]"
   ]
  },
  {
   "cell_type": "code",
   "execution_count": 179,
   "metadata": {},
   "outputs": [],
   "source": [
    "Dirty_price=sum([coupon_not[i]*discount_factor[i] for i in range(len(discount_factor))])"
   ]
  },
  {
   "cell_type": "code",
   "execution_count": 180,
   "metadata": {},
   "outputs": [],
   "source": [
    "Accrued=coupon_not[0]*((180-days_to_coupon[0])/180)\n",
    "Clean_price=Dirty_price-Accrued"
   ]
  },
  {
   "cell_type": "code",
   "execution_count": 181,
   "metadata": {},
   "outputs": [],
   "source": [
    "def Target(h):\n",
    "    aux_h=[(1-h)**i for i in range(len(days_to_coupon)+1)]\n",
    "    Risky_price=sum([coupon_not[i]*df_interbank[i]*aux_h[i+1] for i in range(len(coupon_not))])+Notional*R*h*sum([df_interbank[i]*aux_h[i] for i in range(len(df_interbank))])\n",
    "    return (Dirty_price-Risky_price)*10000"
   ]
  },
  {
   "cell_type": "code",
   "execution_count": 182,
   "metadata": {},
   "outputs": [],
   "source": [
    "h=root(Target,1/100).x[0]"
   ]
  },
  {
   "cell_type": "code",
   "execution_count": 183,
   "metadata": {},
   "outputs": [],
   "source": [
    "Prob_incum_acum_90=1-(1-h)**(90/180)"
   ]
  },
  {
   "cell_type": "code",
   "execution_count": 184,
   "metadata": {},
   "outputs": [],
   "source": [
    "df_tiie=[1/(1+inter*91/360)**(i/91) for i in range(1,plazo+1) ]"
   ]
  },
  {
   "cell_type": "code",
   "execution_count": 185,
   "metadata": {},
   "outputs": [],
   "source": [
    "prob_condicional=[1-(1-h)**((i+1)/180)-(1-(1-h)**(i/180)) for i in range(plazo)]"
   ]
  },
  {
   "cell_type": "code",
   "execution_count": 186,
   "metadata": {},
   "outputs": [],
   "source": [
    "CVA_EPE=sum([df_tiie[i]*prob_condicional[i]*EPE[i] for i in range(len(EPE))])"
   ]
  },
  {
   "cell_type": "code",
   "execution_count": 187,
   "metadata": {},
   "outputs": [],
   "source": [
    "CVA_PFE=sum([df_tiie[i]*prob_condicional[i]*PFE[i] for i in range(len(PFE))])"
   ]
  },
  {
   "cell_type": "markdown",
   "metadata": {},
   "source": [
    "# NUEVO STRIKE\n"
   ]
  },
  {
   "cell_type": "code",
   "execution_count": 188,
   "metadata": {},
   "outputs": [],
   "source": [
    "def mtm(N,nuevo_strike,Precio_fwd,V,plazo):\n",
    "    return N*(nuevo_strike-Precio_fwd)*np.exp(-V*plazo/360)"
   ]
  },
  {
   "cell_type": "code",
   "execution_count": 189,
   "metadata": {},
   "outputs": [],
   "source": [
    "def Target2(nuevo_strike):\n",
    "    return (mtm(N,nuevo_strike,Precio_fwd,V,plazo)-CVA_EPE)"
   ]
  },
  {
   "cell_type": "code",
   "execution_count": 190,
   "metadata": {},
   "outputs": [],
   "source": [
    "def Target3(nuevo_strike):\n",
    "    return (mtm(N,nuevo_strike,Precio_fwd,V,plazo)-CVA_PFE)"
   ]
  },
  {
   "cell_type": "code",
   "execution_count": 191,
   "metadata": {},
   "outputs": [],
   "source": [
    "nuevo_strike_EPE=root(Target2,1/100).x[0]\n",
    "nuevo_strike_PFE=root(Target3,1/100).x[0]"
   ]
  },
  {
   "cell_type": "markdown",
   "metadata": {},
   "source": [
    "# REPORTE DE RESULTADOS CASO 1\n"
   ]
  },
  {
   "cell_type": "code",
   "execution_count": 167,
   "metadata": {
    "scrolled": true
   },
   "outputs": [
    {
     "name": "stdout",
     "output_type": "stream",
     "text": [
      "Para un derivado con nocional 250000000\n",
      "Plazo de 90 \n",
      "Valuado a  2020-04-11 00:00:00\n",
      "con valor de dolar a t0 en 23.350000  \n",
      "con valor de TIIE en 0.065400  \n",
      "con valor de LIBOR en 0.013178  \n",
      "precio fwd de 23.884700  \n",
      "\n",
      "\n",
      "SE OBTUVO\n",
      "Una probabilidad de incumpliemnto de  0.024171 \n",
      "Se valuo un nuevo precio strike EPE de  23.917639 \n",
      "Se valuo un nuevo precio strike PFE de  23.968530 \n",
      "con CVA EPE de  8024062.762675 \n",
      "con CVA PFE de  20420962.004274 \n",
      "\n",
      "\n",
      "Las probabilidades de incumplimiento se calcularon con un bono de las siguientes caracteristicas:\n",
      " emitido en 2019-09-13 00:00:00\n",
      " madurez a 2027-03-13 00:00:00\n",
      " Nocional de 100 \n",
      " tasa cupon de 0.078000 \n",
      " YTM de 0.089000 \n",
      " InterbankRate de 0.005200 \n"
     ]
    },
    {
     "data": {
      "image/png": "[encoded data removed]",
      "text/plain": [
       "<Figure size 432x288 with 1 Axes>"
      ]
     },
     "metadata": {
      "needs_background": "light"
     },
     "output_type": "display_data"
    }
   ],
   "source": [
    "print(\"Para un derivado con nocional %d\" % N)\n",
    "print(\"Plazo de %d \" % plazo)\n",
    "print(\"Valuado a  \" + str(Date))\n",
    "print(\"con valor de dolar a t0 en %f  \" %S0)\n",
    "print(\"con valor de TIIE en %f  \" %inter)\n",
    "print(\"con valor de LIBOR en %f  \" %Tasa_USD)\n",
    "print(\"precio fwd de %f  \" %Precio_fwd)\n",
    "print()\n",
    "print()\n",
    "print(\"SE OBTUVO\")\n",
    "print(\"Una probabilidad de incumpliemnto de  %f \" % Prob_incum_acum_90)\n",
    "print(\"Se valuo un nuevo precio strike EPE de  %f \" % nuevo_strike_EPE)\n",
    "print(\"Se valuo un nuevo precio strike PFE de  %f \" % nuevo_strike_PFE)\n",
    "print(\"con CVA EPE de  %f \" % CVA_EPE)\n",
    "print(\"con CVA PFE de  %f \" % CVA_PFE)\n",
    "print()\n",
    "print()\n",
    "print(\"Las probabilidades de incumplimiento se calcularon con un bono de las siguientes caracteristicas:\")\n",
    "print(\" emitido en \" + str(Start))\n",
    "print(\" madurez a \" + str(Maturity))\n",
    "print(\" Nocional de %d \" % Notional)\n",
    "print(\" tasa cupon de %f \" % Coupon_rate)\n",
    "print(\" YTM de %f \" % YTM)\n",
    "print(\" InterbankRate de %f \" % Interbank_Rate)\n",
    "\n",
    "plot(EPE);\n",
    "plot(PFE, label=\"EPE\");"
   ]
  },
  {
   "cell_type": "markdown",
   "metadata": {},
   "source": [
    "# REPORTE DE RESULTADOS CASO 2\n"
   ]
  },
  {
   "cell_type": "code",
   "execution_count": 192,
   "metadata": {},
   "outputs": [
    {
     "name": "stdout",
     "output_type": "stream",
     "text": [
      "Para un derivado con nocional 8700000\n",
      "Plazo de 90 \n",
      "Valuado a  2020-04-11 00:00:00\n",
      "con valor de dolar a t0 en 23.350000  \n",
      "con valor de TIIE en 0.065400  \n",
      "con valor de LIBOR en 0.013178  \n",
      "precio fwd de 23.709200  \n",
      "\n",
      "\n",
      "SE OBTUVO\n",
      "Una probabilidad de incumpliemnto de  0.024127 \n",
      "Se valuo un nuevo precio strike EPE de  23.741084 \n",
      "Se valuo un nuevo precio strike PFE de  23.789446 \n",
      "con CVA EPE de  272288.589756 \n",
      "con CVA PFE de  685304.648008 \n",
      "\n",
      "\n",
      "Las probabilidades de incumplimiento se calcularon con un bono de las siguientes caracteristicas:\n",
      " emitido en 2019-09-13 00:00:00\n",
      " madurez a 2027-03-13 00:00:00\n",
      " Nocional de 1000 \n",
      " tasa cupon de 0.057000 \n",
      " YTM de 0.086300 \n",
      " InterbankRate de 0.005200 \n"
     ]
    },
    {
     "data": {
      "image/png": "[encoded data removed]",
      "text/plain": [
       "<Figure size 432x288 with 1 Axes>"
      ]
     },
     "metadata": {
      "needs_background": "light"
     },
     "output_type": "display_data"
    }
   ],
   "source": [
    "print(\"Para un derivado con nocional %d\" % N)\n",
    "print(\"Plazo de %d \" % plazo)\n",
    "print(\"Valuado a  \" + str(Date))\n",
    "print(\"con valor de dolar a t0 en %f  \" %S0)\n",
    "print(\"con valor de TIIE en %f  \" %inter)\n",
    "print(\"con valor de LIBOR en %f  \" %Tasa_USD)\n",
    "print(\"precio fwd de %f  \" %Precio_fwd)\n",
    "print()\n",
    "print()\n",
    "print(\"SE OBTUVO\")\n",
    "print(\"Una probabilidad de incumpliemnto de  %f \" % Prob_incum_acum_90)\n",
    "print(\"Se valuo un nuevo precio strike EPE de  %f \" % nuevo_strike_EPE)\n",
    "print(\"Se valuo un nuevo precio strike PFE de  %f \" % nuevo_strike_PFE)\n",
    "print(\"con CVA EPE de  %f \" % CVA_EPE)\n",
    "print(\"con CVA PFE de  %f \" % CVA_PFE)\n",
    "print()\n",
    "print()\n",
    "print(\"Las probabilidades de incumplimiento se calcularon con un bono de las siguientes caracteristicas:\")\n",
    "print(\" emitido en \" + str(Start))\n",
    "print(\" madurez a \" + str(Maturity))\n",
    "print(\" Nocional de %d \" % Notional)\n",
    "print(\" tasa cupon de %f \" % Coupon_rate)\n",
    "print(\" YTM de %f \" % YTM)\n",
    "print(\" InterbankRate de %f \" % Interbank_Rate)\n",
    "\n",
    "\n",
    "plot(EPE)\n",
    "plot(PFE);"
   ]
  },
  {
   "cell_type": "code",
   "execution_count": null,
   "metadata": {},
   "outputs": [],
   "source": []
  }
 ],
 "metadata": {
  "kernelspec": {
   "display_name": "Python 3",
   "language": "python",
   "name": "python3"
  },
  "language_info": {
   "codemirror_mode": {
    "name": "ipython",
    "version": 3
   },
   "file_extension": ".py",
   "mimetype": "text/x-python",
   "name": "python",
   "nbconvert_exporter": "python",
   "pygments_lexer": "ipython3",
   "version": "3.7.3"
  }
 },
 "nbformat": 4,
 "nbformat_minor": 2
}
