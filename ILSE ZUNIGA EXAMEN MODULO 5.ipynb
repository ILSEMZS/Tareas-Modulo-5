{
 "cells": [
  {
   "cell_type": "code",
   "execution_count": 23,
   "metadata": {},
   "outputs": [],
   "source": [
    "import pandas as pd\n",
    "import numpy as np\n",
    "import matplotlib.pyplot as plt\n",
    "import seaborn as sn\n",
    "from sklearn.linear_model import LinearRegression\n",
    "from scipy.optimize import minimize"
   ]
  },
  {
   "cell_type": "markdown",
   "metadata": {},
   "source": [
    "El objetivo del examen final es construir un portafolio riesgoso con 7 acciones e invertir en un\n",
    "portafolio\n",
    "completo que maximice tu utilidad\n",
    ".\n",
    "Considera una tasa libre de riesgo de 5.0%\n",
    ",\n",
    "un premio\n",
    "por riesgo de mercado de 10.0%\n",
    "y un nivel de aversión al riesgo A="
   ]
  },
  {
   "cell_type": "code",
   "execution_count": 3,
   "metadata": {},
   "outputs": [
    {
     "data": {
      "text/html": [
       "<div>\n",
       "<style scoped>\n",
       "    .dataframe tbody tr th:only-of-type {\n",
       "        vertical-align: middle;\n",
       "    }\n",
       "\n",
       "    .dataframe tbody tr th {\n",
       "        vertical-align: top;\n",
       "    }\n",
       "\n",
       "    .dataframe thead th {\n",
       "        text-align: right;\n",
       "    }\n",
       "</style>\n",
       "<table border=\"1\" class=\"dataframe\">\n",
       "  <thead>\n",
       "    <tr style=\"text-align: right;\">\n",
       "      <th></th>\n",
       "      <th>KIMBERA</th>\n",
       "      <th>GAPB</th>\n",
       "      <th>CEMEXCPO</th>\n",
       "      <th>ASURB</th>\n",
       "      <th>GFNORTEO</th>\n",
       "      <th>KOFUBL</th>\n",
       "      <th>AC*</th>\n",
       "      <th>LABB</th>\n",
       "      <th>FEMSAUBD</th>\n",
       "      <th>OMAB</th>\n",
       "      <th>...</th>\n",
       "      <th>MEGACPO</th>\n",
       "      <th>GCC*</th>\n",
       "      <th>BIMBOA</th>\n",
       "      <th>GMEXICOB</th>\n",
       "      <th>GCARSOA1</th>\n",
       "      <th>TLEVICPO</th>\n",
       "      <th>ALFAA</th>\n",
       "      <th>BSMXB</th>\n",
       "      <th>PINFRA*</th>\n",
       "      <th>MEXBOL INDEX</th>\n",
       "    </tr>\n",
       "    <tr>\n",
       "      <th>DATE</th>\n",
       "      <th></th>\n",
       "      <th></th>\n",
       "      <th></th>\n",
       "      <th></th>\n",
       "      <th></th>\n",
       "      <th></th>\n",
       "      <th></th>\n",
       "      <th></th>\n",
       "      <th></th>\n",
       "      <th></th>\n",
       "      <th></th>\n",
       "      <th></th>\n",
       "      <th></th>\n",
       "      <th></th>\n",
       "      <th></th>\n",
       "      <th></th>\n",
       "      <th></th>\n",
       "      <th></th>\n",
       "      <th></th>\n",
       "      <th></th>\n",
       "      <th></th>\n",
       "    </tr>\n",
       "  </thead>\n",
       "  <tbody>\n",
       "    <tr>\n",
       "      <th>2016-01-01</th>\n",
       "      <td>40.37</td>\n",
       "      <td>152.05</td>\n",
       "      <td>8.72</td>\n",
       "      <td>243.89</td>\n",
       "      <td>94.99</td>\n",
       "      <td>123.90</td>\n",
       "      <td>104.68</td>\n",
       "      <td>13.85</td>\n",
       "      <td>161.63</td>\n",
       "      <td>83.61</td>\n",
       "      <td>...</td>\n",
       "      <td>64.19</td>\n",
       "      <td>44.81</td>\n",
       "      <td>45.95</td>\n",
       "      <td>36.79</td>\n",
       "      <td>70.98</td>\n",
       "      <td>94.34</td>\n",
       "      <td>34.10</td>\n",
       "      <td>30.25</td>\n",
       "      <td>202.73</td>\n",
       "      <td>42977.50</td>\n",
       "    </tr>\n",
       "    <tr>\n",
       "      <th>2016-01-04</th>\n",
       "      <td>39.16</td>\n",
       "      <td>148.57</td>\n",
       "      <td>8.43</td>\n",
       "      <td>238.29</td>\n",
       "      <td>91.79</td>\n",
       "      <td>120.29</td>\n",
       "      <td>102.09</td>\n",
       "      <td>14.41</td>\n",
       "      <td>157.62</td>\n",
       "      <td>81.77</td>\n",
       "      <td>...</td>\n",
       "      <td>64.45</td>\n",
       "      <td>43.51</td>\n",
       "      <td>45.02</td>\n",
       "      <td>35.71</td>\n",
       "      <td>69.83</td>\n",
       "      <td>92.62</td>\n",
       "      <td>33.74</td>\n",
       "      <td>29.46</td>\n",
       "      <td>202.93</td>\n",
       "      <td>42113.70</td>\n",
       "    </tr>\n",
       "    <tr>\n",
       "      <th>2016-01-05</th>\n",
       "      <td>38.89</td>\n",
       "      <td>147.93</td>\n",
       "      <td>8.31</td>\n",
       "      <td>233.03</td>\n",
       "      <td>91.72</td>\n",
       "      <td>118.82</td>\n",
       "      <td>101.12</td>\n",
       "      <td>13.77</td>\n",
       "      <td>157.80</td>\n",
       "      <td>81.58</td>\n",
       "      <td>...</td>\n",
       "      <td>63.16</td>\n",
       "      <td>43.51</td>\n",
       "      <td>45.77</td>\n",
       "      <td>36.45</td>\n",
       "      <td>70.70</td>\n",
       "      <td>91.89</td>\n",
       "      <td>33.99</td>\n",
       "      <td>29.72</td>\n",
       "      <td>203.56</td>\n",
       "      <td>42041.68</td>\n",
       "    </tr>\n",
       "    <tr>\n",
       "      <th>2016-01-06</th>\n",
       "      <td>39.13</td>\n",
       "      <td>146.99</td>\n",
       "      <td>8.29</td>\n",
       "      <td>231.97</td>\n",
       "      <td>91.63</td>\n",
       "      <td>120.32</td>\n",
       "      <td>102.50</td>\n",
       "      <td>13.65</td>\n",
       "      <td>156.37</td>\n",
       "      <td>82.03</td>\n",
       "      <td>...</td>\n",
       "      <td>63.27</td>\n",
       "      <td>43.51</td>\n",
       "      <td>45.97</td>\n",
       "      <td>35.57</td>\n",
       "      <td>70.47</td>\n",
       "      <td>90.41</td>\n",
       "      <td>33.65</td>\n",
       "      <td>29.67</td>\n",
       "      <td>199.80</td>\n",
       "      <td>41691.19</td>\n",
       "    </tr>\n",
       "    <tr>\n",
       "      <th>2016-01-07</th>\n",
       "      <td>39.16</td>\n",
       "      <td>141.32</td>\n",
       "      <td>7.64</td>\n",
       "      <td>230.71</td>\n",
       "      <td>89.54</td>\n",
       "      <td>120.20</td>\n",
       "      <td>101.16</td>\n",
       "      <td>13.25</td>\n",
       "      <td>155.14</td>\n",
       "      <td>80.94</td>\n",
       "      <td>...</td>\n",
       "      <td>62.78</td>\n",
       "      <td>42.76</td>\n",
       "      <td>46.18</td>\n",
       "      <td>35.01</td>\n",
       "      <td>68.15</td>\n",
       "      <td>90.23</td>\n",
       "      <td>31.46</td>\n",
       "      <td>28.50</td>\n",
       "      <td>196.75</td>\n",
       "      <td>40661.57</td>\n",
       "    </tr>\n",
       "  </tbody>\n",
       "</table>\n",
       "<p>5 rows × 36 columns</p>\n",
       "</div>"
      ],
      "text/plain": [
       "            KIMBERA    GAPB  CEMEXCPO   ASURB  GFNORTEO  KOFUBL     AC*  \\\n",
       "DATE                                                                      \n",
       "2016-01-01    40.37  152.05      8.72  243.89     94.99  123.90  104.68   \n",
       "2016-01-04    39.16  148.57      8.43  238.29     91.79  120.29  102.09   \n",
       "2016-01-05    38.89  147.93      8.31  233.03     91.72  118.82  101.12   \n",
       "2016-01-06    39.13  146.99      8.29  231.97     91.63  120.32  102.50   \n",
       "2016-01-07    39.16  141.32      7.64  230.71     89.54  120.20  101.16   \n",
       "\n",
       "             LABB  FEMSAUBD   OMAB  ...  MEGACPO   GCC*  BIMBOA  GMEXICOB  \\\n",
       "DATE                                ...                                     \n",
       "2016-01-01  13.85    161.63  83.61  ...    64.19  44.81   45.95     36.79   \n",
       "2016-01-04  14.41    157.62  81.77  ...    64.45  43.51   45.02     35.71   \n",
       "2016-01-05  13.77    157.80  81.58  ...    63.16  43.51   45.77     36.45   \n",
       "2016-01-06  13.65    156.37  82.03  ...    63.27  43.51   45.97     35.57   \n",
       "2016-01-07  13.25    155.14  80.94  ...    62.78  42.76   46.18     35.01   \n",
       "\n",
       "            GCARSOA1  TLEVICPO  ALFAA  BSMXB  PINFRA*  MEXBOL INDEX  \n",
       "DATE                                                                 \n",
       "2016-01-01     70.98     94.34  34.10  30.25   202.73      42977.50  \n",
       "2016-01-04     69.83     92.62  33.74  29.46   202.93      42113.70  \n",
       "2016-01-05     70.70     91.89  33.99  29.72   203.56      42041.68  \n",
       "2016-01-06     70.47     90.41  33.65  29.67   199.80      41691.19  \n",
       "2016-01-07     68.15     90.23  31.46  28.50   196.75      40661.57  \n",
       "\n",
       "[5 rows x 36 columns]"
      ]
     },
     "execution_count": 3,
     "metadata": {},
     "output_type": "execute_result"
    }
   ],
   "source": [
    "market = pd.read_excel(\"./Prueba.xlsx\",parse_dates=[\"DATE\"],index_col=\"DATE\")\n",
    "market.columns = [col.replace(\"MF Equity\", \"\").strip() for col in market.columns]\n",
    "market.head()"
   ]
  },
  {
   "cell_type": "code",
   "execution_count": 4,
   "metadata": {},
   "outputs": [
    {
     "data": {
      "text/plain": [
       "Index(['KIMBERA', 'GAPB', 'CEMEXCPO', 'ASURB', 'GFNORTEO', 'KOFUBL', 'AC*',\n",
       "       'LABB', 'FEMSAUBD', 'OMAB', 'GFINBURO', 'AMXL', 'ALSEA*', 'ORBIA*',\n",
       "       'PE&OLES*', 'GRUMAB', 'RA', 'WALMEX*', 'BOLSAA', 'LIVEPOLC', 'GENTERA*',\n",
       "       'IENOVA*', 'CUERVO*', 'ELEKTRA*', 'BBAJIOO', 'ALPEKA', 'MEGACPO',\n",
       "       'GCC*', 'BIMBOA', 'GMEXICOB', 'GCARSOA1', 'TLEVICPO', 'ALFAA', 'BSMXB',\n",
       "       'PINFRA*', 'MEXBOL INDEX'],\n",
       "      dtype='object')"
      ]
     },
     "execution_count": 4,
     "metadata": {},
     "output_type": "execute_result"
    }
   ],
   "source": [
    "market.columns"
   ]
  },
  {
   "cell_type": "code",
   "execution_count": 6,
   "metadata": {},
   "outputs": [],
   "source": [
    "data=market[['GRUMAB', 'RA', 'BBAJIOO','BSMXB','PE&OLES*', 'GFINBURO', 'AMXL', 'MEXBOL INDEX']]\n",
    "N = len(market)"
   ]
  },
  {
   "cell_type": "code",
   "execution_count": 7,
   "metadata": {},
   "outputs": [
    {
     "data": {
      "text/html": [
       "<div>\n",
       "<style scoped>\n",
       "    .dataframe tbody tr th:only-of-type {\n",
       "        vertical-align: middle;\n",
       "    }\n",
       "\n",
       "    .dataframe tbody tr th {\n",
       "        vertical-align: top;\n",
       "    }\n",
       "\n",
       "    .dataframe thead th {\n",
       "        text-align: right;\n",
       "    }\n",
       "</style>\n",
       "<table border=\"1\" class=\"dataframe\">\n",
       "  <thead>\n",
       "    <tr style=\"text-align: right;\">\n",
       "      <th></th>\n",
       "      <th>GRUMAB</th>\n",
       "      <th>RA</th>\n",
       "      <th>BBAJIOO</th>\n",
       "      <th>BSMXB</th>\n",
       "      <th>PE&amp;OLES*</th>\n",
       "      <th>GFINBURO</th>\n",
       "      <th>AMXL</th>\n",
       "      <th>MEXBOL INDEX</th>\n",
       "    </tr>\n",
       "    <tr>\n",
       "      <th>DATE</th>\n",
       "      <th></th>\n",
       "      <th></th>\n",
       "      <th></th>\n",
       "      <th></th>\n",
       "      <th></th>\n",
       "      <th></th>\n",
       "      <th></th>\n",
       "      <th></th>\n",
       "    </tr>\n",
       "  </thead>\n",
       "  <tbody>\n",
       "    <tr>\n",
       "      <th>2016-01-01</th>\n",
       "      <td>241.75</td>\n",
       "      <td>88.34</td>\n",
       "      <td>NaN</td>\n",
       "      <td>30.25</td>\n",
       "      <td>177.22</td>\n",
       "      <td>31.10</td>\n",
       "      <td>12.12</td>\n",
       "      <td>42977.50</td>\n",
       "    </tr>\n",
       "    <tr>\n",
       "      <th>2016-01-04</th>\n",
       "      <td>236.43</td>\n",
       "      <td>89.12</td>\n",
       "      <td>NaN</td>\n",
       "      <td>29.46</td>\n",
       "      <td>175.90</td>\n",
       "      <td>29.95</td>\n",
       "      <td>12.03</td>\n",
       "      <td>42113.70</td>\n",
       "    </tr>\n",
       "    <tr>\n",
       "      <th>2016-01-05</th>\n",
       "      <td>233.10</td>\n",
       "      <td>88.06</td>\n",
       "      <td>NaN</td>\n",
       "      <td>29.72</td>\n",
       "      <td>176.45</td>\n",
       "      <td>29.60</td>\n",
       "      <td>11.97</td>\n",
       "      <td>42041.68</td>\n",
       "    </tr>\n",
       "    <tr>\n",
       "      <th>2016-01-06</th>\n",
       "      <td>243.38</td>\n",
       "      <td>87.01</td>\n",
       "      <td>NaN</td>\n",
       "      <td>29.67</td>\n",
       "      <td>172.68</td>\n",
       "      <td>29.19</td>\n",
       "      <td>11.74</td>\n",
       "      <td>41691.19</td>\n",
       "    </tr>\n",
       "    <tr>\n",
       "      <th>2016-01-07</th>\n",
       "      <td>243.66</td>\n",
       "      <td>85.63</td>\n",
       "      <td>NaN</td>\n",
       "      <td>28.50</td>\n",
       "      <td>172.94</td>\n",
       "      <td>28.52</td>\n",
       "      <td>11.34</td>\n",
       "      <td>40661.57</td>\n",
       "    </tr>\n",
       "  </tbody>\n",
       "</table>\n",
       "</div>"
      ],
      "text/plain": [
       "            GRUMAB     RA  BBAJIOO  BSMXB  PE&OLES*  GFINBURO   AMXL  \\\n",
       "DATE                                                                   \n",
       "2016-01-01  241.75  88.34      NaN  30.25    177.22     31.10  12.12   \n",
       "2016-01-04  236.43  89.12      NaN  29.46    175.90     29.95  12.03   \n",
       "2016-01-05  233.10  88.06      NaN  29.72    176.45     29.60  11.97   \n",
       "2016-01-06  243.38  87.01      NaN  29.67    172.68     29.19  11.74   \n",
       "2016-01-07  243.66  85.63      NaN  28.50    172.94     28.52  11.34   \n",
       "\n",
       "            MEXBOL INDEX  \n",
       "DATE                      \n",
       "2016-01-01      42977.50  \n",
       "2016-01-04      42113.70  \n",
       "2016-01-05      42041.68  \n",
       "2016-01-06      41691.19  \n",
       "2016-01-07      40661.57  "
      ]
     },
     "execution_count": 7,
     "metadata": {},
     "output_type": "execute_result"
    }
   ],
   "source": [
    "data.head()"
   ]
  },
  {
   "cell_type": "markdown",
   "metadata": {},
   "source": [
    "1.Rendimiento esperado diario y anual bajo los siguientes modelos:\n",
    "\n",
    "\n",
    "a.Modelo de rendimiento promedio constant"
   ]
  },
  {
   "cell_type": "code",
   "execution_count": 8,
   "metadata": {},
   "outputs": [
    {
     "name": "stdout",
     "output_type": "stream",
     "text": [
      "El rendimiento diario bajo el modelo de rendimientos constantes es \n"
     ]
    },
    {
     "data": {
      "text/plain": [
       "GRUMAB         -0.000211\n",
       "RA              0.000168\n",
       "BBAJIOO         0.000249\n",
       "BSMXB          -0.000248\n",
       "PE&OLES*       -0.000769\n",
       "GFINBURO       -0.000273\n",
       "AMXL            0.000151\n",
       "MEXBOL INDEX   -0.000111\n",
       "dtype: float64"
      ]
     },
     "execution_count": 8,
     "metadata": {},
     "output_type": "execute_result"
    }
   ],
   "source": [
    "rend = data.pct_change().dropna()\n",
    "print(\"El rendimiento diario bajo el modelo de rendimientos constantes es \"  )\n",
    "rend.mean()"
   ]
  },
  {
   "cell_type": "code",
   "execution_count": 9,
   "metadata": {},
   "outputs": [
    {
     "name": "stdout",
     "output_type": "stream",
     "text": [
      "El rendimiento anual bajo el modelo de rendimientos constantes es \n"
     ]
    },
    {
     "data": {
      "text/plain": [
       "GRUMAB         -0.053139\n",
       "RA              0.042244\n",
       "BBAJIOO         0.062645\n",
       "BSMXB          -0.062517\n",
       "PE&OLES*       -0.193689\n",
       "GFINBURO       -0.068713\n",
       "AMXL            0.038057\n",
       "MEXBOL INDEX   -0.027950\n",
       "dtype: float64"
      ]
     },
     "execution_count": 9,
     "metadata": {},
     "output_type": "execute_result"
    }
   ],
   "source": [
    "\n",
    "rend_ports = rend.mean() * 252\n",
    "print(\"El rendimiento anual bajo el modelo de rendimientos constantes es \"  )\n",
    "rend_ports"
   ]
  },
  {
   "cell_type": "markdown",
   "metadata": {},
   "source": [
    "b.Modelo CAPM\n",
    "\n",
    "i.¿Cuál es la beta de cada acción?\n",
    "\n",
    "ii.Clasifica las acciones en defensivas y agresivas"
   ]
  },
  {
   "cell_type": "code",
   "execution_count": 10,
   "metadata": {},
   "outputs": [
    {
     "data": {
      "text/plain": [
       "DATE\n",
       "2017-06-08   -0.003805\n",
       "2017-06-09   -0.000117\n",
       "2017-06-12    0.000958\n",
       "2017-06-13   -0.002075\n",
       "2017-06-14    0.005389\n",
       "                ...   \n",
       "2019-12-30   -0.013647\n",
       "2019-12-31   -0.002668\n",
       "2020-01-01    0.000000\n",
       "2020-01-02    0.020583\n",
       "2020-01-03    0.004222\n",
       "Name: MEXBOL INDEX, Length: 672, dtype: float64"
      ]
     },
     "execution_count": 10,
     "metadata": {},
     "output_type": "execute_result"
    }
   ],
   "source": [
    "rend[\"MEXBOL INDEX\"]"
   ]
  },
  {
   "cell_type": "code",
   "execution_count": 11,
   "metadata": {},
   "outputs": [],
   "source": [
    "#primoro obtengo alphas y betas\n",
    "acciones=['GRUMAB', 'RA', 'BBAJIOO', 'BSMXB','PE&OLES*', 'GFINBURO', 'AMXL']\n",
    "alpha=[]\n",
    "beta=[]\n",
    "\n",
    "for i in range(len(acciones)):\n",
    "    sec = acciones[i]\n",
    "\n",
    "    asset = rend[[sec]]\n",
    "    ipc_ret = rend[\"MEXBOL INDEX\"] # factor 1: mercado\n",
    "    ipc_ret.index = ipc_ret.index.values.astype(\"datetime64[D]\")\n",
    "\n",
    "    F = pd.concat([asset, ipc_ret], axis=1).dropna()\n",
    "\n",
    "\n",
    "    lr = LinearRegression()\n",
    "\n",
    "    lr.fit(F[[\"MEXBOL INDEX\"]], F[sec])\n",
    "\n",
    "    beta.append(lr.coef_[0])\n",
    "    alpha.append(lr.intercept_)\n",
    "\n",
    "beta=pd.DataFrame(beta)\n",
    "alpha=pd.DataFrame(alpha)"
   ]
  },
  {
   "cell_type": "code",
   "execution_count": 12,
   "metadata": {},
   "outputs": [],
   "source": [
    "beta.index=acciones\n",
    "#<1 defensivo"
   ]
  },
  {
   "cell_type": "code",
   "execution_count": 13,
   "metadata": {},
   "outputs": [],
   "source": [
    "r=.05  \n",
    "premio=.1\n",
    "A=3\n",
    "\n",
    "\n",
    "E_r=r+premio*beta\n",
    "E_r.columns=[\"rendimiento anual\"]\n",
    "E_r[\"rendimiento diario\"]=E_r[\"rendimiento anual\"]/252"
   ]
  },
  {
   "cell_type": "code",
   "execution_count": 14,
   "metadata": {},
   "outputs": [
    {
     "name": "stdout",
     "output_type": "stream",
     "text": [
      " los rendimientos anuales y diarios bajo el Modelo CAPM son:\n"
     ]
    },
    {
     "data": {
      "text/html": [
       "<div>\n",
       "<style scoped>\n",
       "    .dataframe tbody tr th:only-of-type {\n",
       "        vertical-align: middle;\n",
       "    }\n",
       "\n",
       "    .dataframe tbody tr th {\n",
       "        vertical-align: top;\n",
       "    }\n",
       "\n",
       "    .dataframe thead th {\n",
       "        text-align: right;\n",
       "    }\n",
       "</style>\n",
       "<table border=\"1\" class=\"dataframe\">\n",
       "  <thead>\n",
       "    <tr style=\"text-align: right;\">\n",
       "      <th></th>\n",
       "      <th>rendimiento anual</th>\n",
       "      <th>rendimiento diario</th>\n",
       "    </tr>\n",
       "  </thead>\n",
       "  <tbody>\n",
       "    <tr>\n",
       "      <th>GRUMAB</th>\n",
       "      <td>0.112748</td>\n",
       "      <td>0.000447</td>\n",
       "    </tr>\n",
       "    <tr>\n",
       "      <th>RA</th>\n",
       "      <td>0.119906</td>\n",
       "      <td>0.000476</td>\n",
       "    </tr>\n",
       "    <tr>\n",
       "      <th>BBAJIOO</th>\n",
       "      <td>0.133312</td>\n",
       "      <td>0.000529</td>\n",
       "    </tr>\n",
       "    <tr>\n",
       "      <th>BSMXB</th>\n",
       "      <td>0.149036</td>\n",
       "      <td>0.000591</td>\n",
       "    </tr>\n",
       "    <tr>\n",
       "      <th>PE&amp;OLES*</th>\n",
       "      <td>0.170329</td>\n",
       "      <td>0.000676</td>\n",
       "    </tr>\n",
       "    <tr>\n",
       "      <th>GFINBURO</th>\n",
       "      <td>0.153518</td>\n",
       "      <td>0.000609</td>\n",
       "    </tr>\n",
       "    <tr>\n",
       "      <th>AMXL</th>\n",
       "      <td>0.164149</td>\n",
       "      <td>0.000651</td>\n",
       "    </tr>\n",
       "  </tbody>\n",
       "</table>\n",
       "</div>"
      ],
      "text/plain": [
       "          rendimiento anual  rendimiento diario\n",
       "GRUMAB             0.112748            0.000447\n",
       "RA                 0.119906            0.000476\n",
       "BBAJIOO            0.133312            0.000529\n",
       "BSMXB              0.149036            0.000591\n",
       "PE&OLES*           0.170329            0.000676\n",
       "GFINBURO           0.153518            0.000609\n",
       "AMXL               0.164149            0.000651"
      ]
     },
     "execution_count": 14,
     "metadata": {},
     "output_type": "execute_result"
    }
   ],
   "source": [
    "print(\" los rendimientos anuales y diarios bajo el Modelo CAPM son:\" )\n",
    "E_r"
   ]
  },
  {
   "cell_type": "code",
   "execution_count": 15,
   "metadata": {},
   "outputs": [
    {
     "name": "stdout",
     "output_type": "stream",
     "text": [
      " Las betas de cada accion y su clasificacion son:\n"
     ]
    },
    {
     "data": {
      "text/html": [
       "<div>\n",
       "<style scoped>\n",
       "    .dataframe tbody tr th:only-of-type {\n",
       "        vertical-align: middle;\n",
       "    }\n",
       "\n",
       "    .dataframe tbody tr th {\n",
       "        vertical-align: top;\n",
       "    }\n",
       "\n",
       "    .dataframe thead th {\n",
       "        text-align: right;\n",
       "    }\n",
       "</style>\n",
       "<table border=\"1\" class=\"dataframe\">\n",
       "  <thead>\n",
       "    <tr style=\"text-align: right;\">\n",
       "      <th></th>\n",
       "      <th>beta</th>\n",
       "      <th>tipo</th>\n",
       "    </tr>\n",
       "  </thead>\n",
       "  <tbody>\n",
       "    <tr>\n",
       "      <th>GRUMAB</th>\n",
       "      <td>0.627485</td>\n",
       "      <td>Defensiva</td>\n",
       "    </tr>\n",
       "    <tr>\n",
       "      <th>RA</th>\n",
       "      <td>0.699065</td>\n",
       "      <td>Defensiva</td>\n",
       "    </tr>\n",
       "    <tr>\n",
       "      <th>BBAJIOO</th>\n",
       "      <td>0.833118</td>\n",
       "      <td>Defensiva</td>\n",
       "    </tr>\n",
       "    <tr>\n",
       "      <th>BSMXB</th>\n",
       "      <td>0.990356</td>\n",
       "      <td>Defensiva</td>\n",
       "    </tr>\n",
       "    <tr>\n",
       "      <th>PE&amp;OLES*</th>\n",
       "      <td>1.203287</td>\n",
       "      <td>Agresiva</td>\n",
       "    </tr>\n",
       "    <tr>\n",
       "      <th>GFINBURO</th>\n",
       "      <td>1.035179</td>\n",
       "      <td>Agresiva</td>\n",
       "    </tr>\n",
       "    <tr>\n",
       "      <th>AMXL</th>\n",
       "      <td>1.141493</td>\n",
       "      <td>Agresiva</td>\n",
       "    </tr>\n",
       "  </tbody>\n",
       "</table>\n",
       "</div>"
      ],
      "text/plain": [
       "              beta       tipo\n",
       "GRUMAB    0.627485  Defensiva\n",
       "RA        0.699065  Defensiva\n",
       "BBAJIOO   0.833118  Defensiva\n",
       "BSMXB     0.990356  Defensiva\n",
       "PE&OLES*  1.203287   Agresiva\n",
       "GFINBURO  1.035179   Agresiva\n",
       "AMXL      1.141493   Agresiva"
      ]
     },
     "execution_count": 15,
     "metadata": {},
     "output_type": "execute_result"
    }
   ],
   "source": [
    "print(\" Las betas de cada accion y su clasificacion son:\" )\n",
    "beta.columns=[\"beta\"]\n",
    "beta[\"tipo\"]=[ \"Defensiva\" if beta[\"beta\"][i]<1 else \"Agresiva\" for i in range(len(beta)) ]\n",
    "beta"
   ]
  },
  {
   "cell_type": "markdown",
   "metadata": {},
   "source": [
    "2.Matriz varianza-covarianza"
   ]
  },
  {
   "cell_type": "code",
   "execution_count": 16,
   "metadata": {},
   "outputs": [
    {
     "name": "stdout",
     "output_type": "stream",
     "text": [
      "diaria\n"
     ]
    },
    {
     "data": {
      "text/html": [
       "<div>\n",
       "<style scoped>\n",
       "    .dataframe tbody tr th:only-of-type {\n",
       "        vertical-align: middle;\n",
       "    }\n",
       "\n",
       "    .dataframe tbody tr th {\n",
       "        vertical-align: top;\n",
       "    }\n",
       "\n",
       "    .dataframe thead th {\n",
       "        text-align: right;\n",
       "    }\n",
       "</style>\n",
       "<table border=\"1\" class=\"dataframe\">\n",
       "  <thead>\n",
       "    <tr style=\"text-align: right;\">\n",
       "      <th></th>\n",
       "      <th>GRUMAB</th>\n",
       "      <th>RA</th>\n",
       "      <th>BBAJIOO</th>\n",
       "      <th>BSMXB</th>\n",
       "      <th>PE&amp;OLES*</th>\n",
       "      <th>GFINBURO</th>\n",
       "      <th>AMXL</th>\n",
       "      <th>MEXBOL INDEX</th>\n",
       "    </tr>\n",
       "  </thead>\n",
       "  <tbody>\n",
       "    <tr>\n",
       "      <th>GRUMAB</th>\n",
       "      <td>0.000177</td>\n",
       "      <td>0.000025</td>\n",
       "      <td>0.000047</td>\n",
       "      <td>0.000034</td>\n",
       "      <td>0.000066</td>\n",
       "      <td>0.000047</td>\n",
       "      <td>0.000040</td>\n",
       "      <td>0.000046</td>\n",
       "    </tr>\n",
       "    <tr>\n",
       "      <th>RA</th>\n",
       "      <td>0.000025</td>\n",
       "      <td>0.000221</td>\n",
       "      <td>0.000070</td>\n",
       "      <td>0.000061</td>\n",
       "      <td>0.000064</td>\n",
       "      <td>0.000053</td>\n",
       "      <td>0.000038</td>\n",
       "      <td>0.000051</td>\n",
       "    </tr>\n",
       "    <tr>\n",
       "      <th>BBAJIOO</th>\n",
       "      <td>0.000047</td>\n",
       "      <td>0.000070</td>\n",
       "      <td>0.000210</td>\n",
       "      <td>0.000079</td>\n",
       "      <td>0.000065</td>\n",
       "      <td>0.000072</td>\n",
       "      <td>0.000060</td>\n",
       "      <td>0.000061</td>\n",
       "    </tr>\n",
       "    <tr>\n",
       "      <th>BSMXB</th>\n",
       "      <td>0.000034</td>\n",
       "      <td>0.000061</td>\n",
       "      <td>0.000079</td>\n",
       "      <td>0.000279</td>\n",
       "      <td>0.000075</td>\n",
       "      <td>0.000099</td>\n",
       "      <td>0.000062</td>\n",
       "      <td>0.000072</td>\n",
       "    </tr>\n",
       "    <tr>\n",
       "      <th>PE&amp;OLES*</th>\n",
       "      <td>0.000066</td>\n",
       "      <td>0.000064</td>\n",
       "      <td>0.000065</td>\n",
       "      <td>0.000075</td>\n",
       "      <td>0.000459</td>\n",
       "      <td>0.000102</td>\n",
       "      <td>0.000085</td>\n",
       "      <td>0.000088</td>\n",
       "    </tr>\n",
       "    <tr>\n",
       "      <th>GFINBURO</th>\n",
       "      <td>0.000047</td>\n",
       "      <td>0.000053</td>\n",
       "      <td>0.000072</td>\n",
       "      <td>0.000099</td>\n",
       "      <td>0.000102</td>\n",
       "      <td>0.000284</td>\n",
       "      <td>0.000069</td>\n",
       "      <td>0.000076</td>\n",
       "    </tr>\n",
       "    <tr>\n",
       "      <th>AMXL</th>\n",
       "      <td>0.000040</td>\n",
       "      <td>0.000038</td>\n",
       "      <td>0.000060</td>\n",
       "      <td>0.000062</td>\n",
       "      <td>0.000085</td>\n",
       "      <td>0.000069</td>\n",
       "      <td>0.000193</td>\n",
       "      <td>0.000083</td>\n",
       "    </tr>\n",
       "    <tr>\n",
       "      <th>MEXBOL INDEX</th>\n",
       "      <td>0.000046</td>\n",
       "      <td>0.000051</td>\n",
       "      <td>0.000061</td>\n",
       "      <td>0.000072</td>\n",
       "      <td>0.000088</td>\n",
       "      <td>0.000076</td>\n",
       "      <td>0.000083</td>\n",
       "      <td>0.000073</td>\n",
       "    </tr>\n",
       "  </tbody>\n",
       "</table>\n",
       "</div>"
      ],
      "text/plain": [
       "                GRUMAB        RA   BBAJIOO     BSMXB  PE&OLES*  GFINBURO  \\\n",
       "GRUMAB        0.000177  0.000025  0.000047  0.000034  0.000066  0.000047   \n",
       "RA            0.000025  0.000221  0.000070  0.000061  0.000064  0.000053   \n",
       "BBAJIOO       0.000047  0.000070  0.000210  0.000079  0.000065  0.000072   \n",
       "BSMXB         0.000034  0.000061  0.000079  0.000279  0.000075  0.000099   \n",
       "PE&OLES*      0.000066  0.000064  0.000065  0.000075  0.000459  0.000102   \n",
       "GFINBURO      0.000047  0.000053  0.000072  0.000099  0.000102  0.000284   \n",
       "AMXL          0.000040  0.000038  0.000060  0.000062  0.000085  0.000069   \n",
       "MEXBOL INDEX  0.000046  0.000051  0.000061  0.000072  0.000088  0.000076   \n",
       "\n",
       "                  AMXL  MEXBOL INDEX  \n",
       "GRUMAB        0.000040      0.000046  \n",
       "RA            0.000038      0.000051  \n",
       "BBAJIOO       0.000060      0.000061  \n",
       "BSMXB         0.000062      0.000072  \n",
       "PE&OLES*      0.000085      0.000088  \n",
       "GFINBURO      0.000069      0.000076  \n",
       "AMXL          0.000193      0.000083  \n",
       "MEXBOL INDEX  0.000083      0.000073  "
      ]
     },
     "execution_count": 16,
     "metadata": {},
     "output_type": "execute_result"
    }
   ],
   "source": [
    "\n",
    "print(\"diaria\" )\n",
    "rend.cov()"
   ]
  },
  {
   "cell_type": "code",
   "execution_count": 17,
   "metadata": {},
   "outputs": [
    {
     "name": "stdout",
     "output_type": "stream",
     "text": [
      "anual\n"
     ]
    },
    {
     "data": {
      "text/html": [
       "<div>\n",
       "<style scoped>\n",
       "    .dataframe tbody tr th:only-of-type {\n",
       "        vertical-align: middle;\n",
       "    }\n",
       "\n",
       "    .dataframe tbody tr th {\n",
       "        vertical-align: top;\n",
       "    }\n",
       "\n",
       "    .dataframe thead th {\n",
       "        text-align: right;\n",
       "    }\n",
       "</style>\n",
       "<table border=\"1\" class=\"dataframe\">\n",
       "  <thead>\n",
       "    <tr style=\"text-align: right;\">\n",
       "      <th></th>\n",
       "      <th>GRUMAB</th>\n",
       "      <th>RA</th>\n",
       "      <th>BBAJIOO</th>\n",
       "      <th>BSMXB</th>\n",
       "      <th>PE&amp;OLES*</th>\n",
       "      <th>GFINBURO</th>\n",
       "      <th>AMXL</th>\n",
       "      <th>MEXBOL INDEX</th>\n",
       "    </tr>\n",
       "  </thead>\n",
       "  <tbody>\n",
       "    <tr>\n",
       "      <th>GRUMAB</th>\n",
       "      <td>0.044617</td>\n",
       "      <td>0.006186</td>\n",
       "      <td>0.011970</td>\n",
       "      <td>0.008581</td>\n",
       "      <td>0.016666</td>\n",
       "      <td>0.011914</td>\n",
       "      <td>0.010145</td>\n",
       "      <td>0.011546</td>\n",
       "    </tr>\n",
       "    <tr>\n",
       "      <th>RA</th>\n",
       "      <td>0.006186</td>\n",
       "      <td>0.055697</td>\n",
       "      <td>0.017556</td>\n",
       "      <td>0.015423</td>\n",
       "      <td>0.016131</td>\n",
       "      <td>0.013354</td>\n",
       "      <td>0.009500</td>\n",
       "      <td>0.012863</td>\n",
       "    </tr>\n",
       "    <tr>\n",
       "      <th>BBAJIOO</th>\n",
       "      <td>0.011970</td>\n",
       "      <td>0.017556</td>\n",
       "      <td>0.052902</td>\n",
       "      <td>0.019938</td>\n",
       "      <td>0.016255</td>\n",
       "      <td>0.018106</td>\n",
       "      <td>0.015118</td>\n",
       "      <td>0.015330</td>\n",
       "    </tr>\n",
       "    <tr>\n",
       "      <th>BSMXB</th>\n",
       "      <td>0.008581</td>\n",
       "      <td>0.015423</td>\n",
       "      <td>0.019938</td>\n",
       "      <td>0.070252</td>\n",
       "      <td>0.019016</td>\n",
       "      <td>0.024849</td>\n",
       "      <td>0.015566</td>\n",
       "      <td>0.018223</td>\n",
       "    </tr>\n",
       "    <tr>\n",
       "      <th>PE&amp;OLES*</th>\n",
       "      <td>0.016666</td>\n",
       "      <td>0.016131</td>\n",
       "      <td>0.016255</td>\n",
       "      <td>0.019016</td>\n",
       "      <td>0.115560</td>\n",
       "      <td>0.025820</td>\n",
       "      <td>0.021491</td>\n",
       "      <td>0.022141</td>\n",
       "    </tr>\n",
       "    <tr>\n",
       "      <th>GFINBURO</th>\n",
       "      <td>0.011914</td>\n",
       "      <td>0.013354</td>\n",
       "      <td>0.018106</td>\n",
       "      <td>0.024849</td>\n",
       "      <td>0.025820</td>\n",
       "      <td>0.071452</td>\n",
       "      <td>0.017458</td>\n",
       "      <td>0.019048</td>\n",
       "    </tr>\n",
       "    <tr>\n",
       "      <th>AMXL</th>\n",
       "      <td>0.010145</td>\n",
       "      <td>0.009500</td>\n",
       "      <td>0.015118</td>\n",
       "      <td>0.015566</td>\n",
       "      <td>0.021491</td>\n",
       "      <td>0.017458</td>\n",
       "      <td>0.048554</td>\n",
       "      <td>0.021004</td>\n",
       "    </tr>\n",
       "    <tr>\n",
       "      <th>MEXBOL INDEX</th>\n",
       "      <td>0.011546</td>\n",
       "      <td>0.012863</td>\n",
       "      <td>0.015330</td>\n",
       "      <td>0.018223</td>\n",
       "      <td>0.022141</td>\n",
       "      <td>0.019048</td>\n",
       "      <td>0.021004</td>\n",
       "      <td>0.018401</td>\n",
       "    </tr>\n",
       "  </tbody>\n",
       "</table>\n",
       "</div>"
      ],
      "text/plain": [
       "                GRUMAB        RA   BBAJIOO     BSMXB  PE&OLES*  GFINBURO  \\\n",
       "GRUMAB        0.044617  0.006186  0.011970  0.008581  0.016666  0.011914   \n",
       "RA            0.006186  0.055697  0.017556  0.015423  0.016131  0.013354   \n",
       "BBAJIOO       0.011970  0.017556  0.052902  0.019938  0.016255  0.018106   \n",
       "BSMXB         0.008581  0.015423  0.019938  0.070252  0.019016  0.024849   \n",
       "PE&OLES*      0.016666  0.016131  0.016255  0.019016  0.115560  0.025820   \n",
       "GFINBURO      0.011914  0.013354  0.018106  0.024849  0.025820  0.071452   \n",
       "AMXL          0.010145  0.009500  0.015118  0.015566  0.021491  0.017458   \n",
       "MEXBOL INDEX  0.011546  0.012863  0.015330  0.018223  0.022141  0.019048   \n",
       "\n",
       "                  AMXL  MEXBOL INDEX  \n",
       "GRUMAB        0.010145      0.011546  \n",
       "RA            0.009500      0.012863  \n",
       "BBAJIOO       0.015118      0.015330  \n",
       "BSMXB         0.015566      0.018223  \n",
       "PE&OLES*      0.021491      0.022141  \n",
       "GFINBURO      0.017458      0.019048  \n",
       "AMXL          0.048554      0.021004  \n",
       "MEXBOL INDEX  0.021004      0.018401  "
      ]
     },
     "execution_count": 17,
     "metadata": {},
     "output_type": "execute_result"
    }
   ],
   "source": [
    "\n",
    "print(\"anual\" )\n",
    "rend.cov()*252"
   ]
  },
  {
   "cell_type": "markdown",
   "metadata": {},
   "source": [
    "Utilizando los rendimientos esperados bajo el modelo CAPM, construye:\n",
    "3. Frontera de carteras de mínima varianza y frontera eficiente / graficar"
   ]
  },
  {
   "cell_type": "code",
   "execution_count": 71,
   "metadata": {},
   "outputs": [],
   "source": [
    "def port_rend(weights):#E_r[\"rendimiento anual\"]\n",
    "    E_p =(E_r[\"rendimiento anual\"] @ weights) \n",
    "    return E_p\n",
    "\n",
    "def port_vol(weights, r):\n",
    "    S_p = np.sqrt(weights.T @ (r.cov() *252) @ weights)\n",
    "    return S_p\n",
    "\n",
    "def sum_weights(weights):\n",
    "    return weights.sum() -1\n",
    "\n",
    "def rend_esperado(w, E):\n",
    "    return port_rend(w) - E # == 0"
   ]
  },
  {
   "cell_type": "code",
   "execution_count": 72,
   "metadata": {},
   "outputs": [],
   "source": [
    "#rmin = port_rend(wp0,rend)\n",
    "rmin = E_r[\"rendimiento anual\"].min()\n",
    "rmax = E_r[\"rendimiento anual\"].max()\n",
    "\n",
    "rend_maxs = np.linspace(rmin,rmax)"
   ]
  },
  {
   "cell_type": "code",
   "execution_count": 73,
   "metadata": {},
   "outputs": [],
   "source": [
    "N, M  = rend[['GRUMAB', 'RA', 'BBAJIOO', 'BSMXB','PE&OLES*', 'GFINBURO', 'AMXL']].shape\n",
    "w0 = np.random.randn(M)"
   ]
  },
  {
   "cell_type": "code",
   "execution_count": 74,
   "metadata": {},
   "outputs": [],
   "source": [
    "pesos_optimos = []\n",
    "for e in rend_maxs:\n",
    "    constraints = [\n",
    "        {\"type\":\"eq\", \"fun\":sum_weights},\n",
    "        {\"type\":\"eq\", \"fun\":lambda w: rend_esperado(w, e)}\n",
    "    ]\n",
    "    port1 = minimize(port_vol, w0, constraints=constraints, args=rend[['GRUMAB', 'RA', 'BBAJIOO', 'BSMXB','PE&OLES*', 'GFINBURO', 'AMXL']])\n",
    "    w_opt = port1.x\n",
    "    pesos_optimos.append(w_opt)"
   ]
  },
  {
   "cell_type": "code",
   "execution_count": 76,
   "metadata": {},
   "outputs": [],
   "source": [
    "\n",
    "r_opt = []\n",
    "v_opt = []\n",
    "for w in pesos_optimos:\n",
    "    r_opt.append(port_rend(w))\n",
    "    v_opt.append(port_vol(w,rend[['GRUMAB', 'RA', 'BBAJIOO', 'BSMXB','PE&OLES*', 'GFINBURO', 'AMXL']]))\n",
    "    \n",
    "r_opt = np.array(r_opt)\n",
    "v_opt = np.array(v_opt)\n",
    "\n"
   ]
  },
  {
   "cell_type": "code",
   "execution_count": 84,
   "metadata": {},
   "outputs": [
    {
     "name": "stdout",
     "output_type": "stream",
     "text": [
      "Frontera de carteras eficientes y en ROJO cartera de minima varianza\n"
     ]
    },
    {
     "data": {
      "image/png": "[encoded data removed]",
      "text/plain": [
       "<Figure size 432x288 with 2 Axes>"
      ]
     },
     "metadata": {
      "needs_background": "light"
     },
     "output_type": "display_data"
    }
   ],
   "source": [
    "print(\"Frontera de carteras eficientes y en ROJO cartera de minima varianza\")\n",
    "plt.scatter(v_opt,r_opt, c=r_opt/v_opt)\n",
    "plt.scatter(v_opt.min(),r_opt[np.argmin(v_opt)],c=\"red\")\n",
    "plt.colorbar();"
   ]
  },
  {
   "cell_type": "markdown",
   "metadata": {},
   "source": [
    "4. Encuentra el portafolio riesgoso óptimo (maximiza el coeficiente de Sharpe)\n"
   ]
  },
  {
   "cell_type": "code",
   "execution_count": 86,
   "metadata": {},
   "outputs": [],
   "source": [
    "rf=.05 \n",
    "def min_func_sharpe(weights):\n",
    "        return - (port_rend(weights) - rf)/ port_vol(weights,rend[['GRUMAB', 'RA', 'BBAJIOO', 'BSMXB','PE&OLES*', 'GFINBURO', 'AMXL']])\n",
    "\n",
    "constraints = [\n",
    "    {\"type\":\"eq\", \"fun\":sum_weights}\n",
    "]\n",
    "f_sharpe = minimize(min_func_sharpe,w0, constraints=constraints)"
   ]
  },
  {
   "cell_type": "code",
   "execution_count": 89,
   "metadata": {},
   "outputs": [],
   "source": [
    "w_sharpe = f_sharpe.x  # pesos del PORTAFOLIO que maximizan sharpe\n",
    "e_sharpe = port_rend(w_sharpe)\n",
    "vol_sharpe = port_vol(w_sharpe, rend[['GRUMAB', 'RA', 'BBAJIOO', 'BSMXB','PE&OLES*', 'GFINBURO', 'AMXL']])"
   ]
  },
  {
   "cell_type": "code",
   "execution_count": 96,
   "metadata": {},
   "outputs": [
    {
     "name": "stdout",
     "output_type": "stream",
     "text": [
      "el portafolio riesgoso optimo es aquel con rendimiento esperado 0.147870\n",
      "y volatilidad  0.151409\n",
      " con los pesos \n"
     ]
    },
    {
     "data": {
      "text/plain": [
       "array([0.12245845, 0.10356846, 0.0925747 , 0.12315889, 0.08647391,\n",
       "       0.11485837, 0.35690723])"
      ]
     },
     "execution_count": 96,
     "metadata": {},
     "output_type": "execute_result"
    }
   ],
   "source": [
    "\n",
    "print(\"el portafolio riesgoso optimo es aquel con rendimiento esperado %f\" % e_sharpe)\n",
    "\n",
    "print(\"y volatilidad  %f\" % vol_sharpe)\n",
    "\n",
    "print(\" con los pesos \")\n",
    "w_sharpe"
   ]
  },
  {
   "cell_type": "code",
   "execution_count": 90,
   "metadata": {},
   "outputs": [
    {
     "data": {
      "text/plain": [
       "<matplotlib.legend.Legend at 0x21c94917c50>"
      ]
     },
     "execution_count": 90,
     "metadata": {},
     "output_type": "execute_result"
    },
    {
     "data": {
      "image/png": "[encoded data removed]",
      "text/plain": [
       "<Figure size 432x288 with 1 Axes>"
      ]
     },
     "metadata": {
      "needs_background": "light"
     },
     "output_type": "display_data"
    }
   ],
   "source": [
    "sigma_c = np.linspace(0,0.25)\n",
    "sharpe = rf + sigma_c*(e_sharpe - rf)/vol_sharpe\n",
    "plt.plot(sigma_c, sharpe, linestyle=\"--\",c=\"tab:orange\", label=\"Capital Allocation Line\")\n",
    "plt.plot(v_opt, r_opt)\n",
    "plt.legend(fontsize=12)"
   ]
  },
  {
   "cell_type": "markdown",
   "metadata": {},
   "source": [
    "5. Elige los porcentajes a invertir en el portafolio riesgoso óptimo y el activo libre de riesgo"
   ]
  },
  {
   "cell_type": "code",
   "execution_count": 91,
   "metadata": {},
   "outputs": [
    {
     "data": {
      "text/plain": [
       "1.4230715071319193"
      ]
     },
     "execution_count": 91,
     "metadata": {},
     "output_type": "execute_result"
    }
   ],
   "source": [
    "A =3\n",
    "y_star = (e_sharpe - rf) / (A * vol_sharpe ** 2)\n",
    "y_star"
   ]
  },
  {
   "cell_type": "code",
   "execution_count": 92,
   "metadata": {},
   "outputs": [],
   "source": [
    "E_util = rf+y_star*(e_sharpe-rf)\n",
    "V_util = y_star*vol_sharpe"
   ]
  },
  {
   "cell_type": "code",
   "execution_count": 103,
   "metadata": {},
   "outputs": [
    {
     "name": "stdout",
     "output_type": "stream",
     "text": [
      "Mi porcentaje a invertir en el riesgoso optimo es 142.307151\n",
      "Mi porcentaje a invertir en el activo libre de riesgo es -42.307151\n",
      "es decir pido prestado a esa tasa\n"
     ]
    }
   ],
   "source": [
    "print(\"Mi porcentaje a invertir en el riesgoso optimo es %f\" %(y_star*100))\n",
    "print(\"Mi porcentaje a invertir en el activo libre de riesgo es %f\" %((1-y_star)*100) )\n",
    "print(\"es decir pido prestado a esa tasa\")"
   ]
  },
  {
   "cell_type": "markdown",
   "metadata": {},
   "source": [
    "Deep Learning:\n",
    "\n",
    "6. ¿En qué escenarios ocuparías una red neuronal?\n",
    "\n",
    "Cuando tienes un gran volumen de datos.\n",
    "\n",
    "Cuando modelos mas simples no ofrecen un desempeno util para el problema o necesitas ganar mejoras en el desempeno sin importar el cost computacional.\n",
    "\n",
    "\n"
   ]
  },
  {
   "cell_type": "markdown",
   "metadata": {},
   "source": [
    "7. ¿En qué escenarios no ocuparías una red neuronal?\n",
    "\n",
    "Si el fenomeno que estoy modelando obtiene un desempeno alto o aceptable para el caso con un metodo mas simple.\n",
    "\n",
    "Si la red neuronal no anade valor al desempeno por el costo computacional que implica.\n",
    "\n",
    "Si tengo pocos datos que no son suficientes para entrenar una red neuronal.\n"
   ]
  },
  {
   "cell_type": "markdown",
   "metadata": {},
   "source": [
    "8. Menciona tres funciones de activación para una red neuronal feed-forward\n",
    "\n",
    "a) Identidad f(x) = x \n",
    "\n",
    "b) Funcion sigmoidal f(x)=1/(1+exp(-1))\n",
    "\n",
    "c) ReLu f(x)=max(0,x)"
   ]
  },
  {
   "cell_type": "markdown",
   "metadata": {},
   "source": [
    "9. ¿Qué es el método de backpropagation ?\n",
    "\n",
    "Es un algoritmo utilizado para obtener el gradiente de la funcion de costo en una red neuronal , el cual comienza el calculo en la ultima capa de la red y termina en la primera."
   ]
  },
  {
   "cell_type": "markdown",
   "metadata": {},
   "source": [
    "10.¿En qué difiere una red neuronal feed-forward de una red neuronal convolucional?\n",
    "\n",
    "Una red feed forward es el modelo mas simple en la que cada neurona de cada capa esta conectada unicamente con neuronas de la capa siguiente de tal manera que no crea ciclos, en cambio las convicionales en cada capa se aplica un filtro sobre los datos de forma que se pretende extraer los patrones de cada muestra, esos filtros son los conocidos como convoluciones. Sin embargo el modo en que parende un red convolucional puede ser feed forward"
   ]
  }
 ],
 "metadata": {
  "kernelspec": {
   "display_name": "Python 3",
   "language": "python",
   "name": "python3"
  },
  "language_info": {
   "codemirror_mode": {
    "name": "ipython",
    "version": 3
   },
   "file_extension": ".py",
   "mimetype": "text/x-python",
   "name": "python",
   "nbconvert_exporter": "python",
   "pygments_lexer": "ipython3",
   "version": "3.7.3"
  }
 },
 "nbformat": 4,
 "nbformat_minor": 2
}
